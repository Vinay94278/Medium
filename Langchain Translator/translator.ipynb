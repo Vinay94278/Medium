{
 "cells": [
  {
   "cell_type": "markdown",
   "id": "daff22c8",
   "metadata": {},
   "source": [
    "# 🧰 Load Configurations"
   ]
  },
  {
   "cell_type": "code",
   "execution_count": 11,
   "id": "2695f943",
   "metadata": {},
   "outputs": [],
   "source": [
    "import os\n",
    "from dotenv import load_dotenv\n",
    "\n",
    "# Load environment variables from .env\n",
    "load_dotenv()\n",
    "GROQ_API_KEY = os.getenv(\"GROQ_API_KEY\")\n",
    "\n",
    "MODEL = \"llama-3.3-70b-versatile\"\n",
    "DEFAULT_LANGUAGE = \"Italian\""
   ]
  },
  {
   "cell_type": "markdown",
   "id": "e910e496",
   "metadata": {},
   "source": [
    "# ⚙️ Initialize Groq LLM Using LangChain"
   ]
  },
  {
   "cell_type": "code",
   "execution_count": 12,
   "id": "4fb241e0",
   "metadata": {},
   "outputs": [],
   "source": [
    "from langchain_groq import ChatGroq\n",
    "\n",
    "# Check API key\n",
    "if not GROQ_API_KEY:\n",
    "    raise ValueError(\"GROQ_API_KEY is missing. Please check your .env file.\")\n",
    "\n",
    "# Initialize the model\n",
    "model = ChatGroq(api_key=GROQ_API_KEY, model=MODEL)"
   ]
  },
  {
   "cell_type": "markdown",
   "id": "b7f4e994",
   "metadata": {},
   "source": [
    "# ✍️ Translator Function"
   ]
  },
  {
   "cell_type": "code",
   "execution_count": null,
   "id": "38366ffb",
   "metadata": {},
   "outputs": [],
   "source": [
    "from langchain_core.messages import HumanMessage\n",
    "from langchain_core.messages import SystemMessage\n",
    "\n",
    "def translate_text(text, target_language=None):\n",
    "    \"\"\"\n",
    "    Translates English text into target_language using Groq's LLM.\n",
    "\n",
    "    Parameters:\n",
    "    - text: The input text to translate.\n",
    "    - target_language: Language to translate into (default: Italian).\n",
    "\n",
    "    Returns:\n",
    "    - Translated text as a string.\n",
    "    \"\"\"\n",
    "    \n",
    "    if target_language is None:\n",
    "        target_language = DEFAULT_LANGUAGE\n",
    "\n",
    "    if not text.strip():\n",
    "        return \"Error: Input text cannot be empty.\"\n",
    "\n",
    "    try:\n",
    "        messages = [\n",
    "            SystemMessage(content=\"Translate the following text from English to {}:\".format(target_language)),\n",
    "            HumanMessage(content=text)\n",
    "        ]\n",
    "\n",
    "        response = model.invoke(messages)\n",
    "        return response.content\n",
    "\n",
    "    except Exception as e:\n",
    "        return \"⚠️ Translation failed due to: {}\".format(str(e))"
   ]
  },
  {
   "cell_type": "markdown",
   "id": "f7c8be85",
   "metadata": {},
   "source": [
    "# 🔍 Test Translation"
   ]
  },
  {
   "cell_type": "code",
   "execution_count": 16,
   "id": "ddfab186",
   "metadata": {},
   "outputs": [
    {
     "name": "stdout",
     "output_type": "stream",
     "text": [
      "🔤 Translated Text: शुभ प्रभात, आपका दिन अच्छा गुजरे!\n"
     ]
    }
   ],
   "source": [
    "# Test Case 1: Normal Translation\n",
    "text_to_translate = \"Good morning, have a nice day!\"\n",
    "output = translate_text(text_to_translate,\"Hindi\")\n",
    "print(\"🔤 Translated Text:\", output)"
   ]
  },
  {
   "cell_type": "markdown",
   "id": "d327ecb0",
   "metadata": {},
   "source": [
    "# 🚨 Test Error Handling"
   ]
  },
  {
   "cell_type": "code",
   "execution_count": 15,
   "id": "796b3b08",
   "metadata": {},
   "outputs": [
    {
     "name": "stdout",
     "output_type": "stream",
     "text": [
      "Error: Input text cannot be empty.\n"
     ]
    }
   ],
   "source": [
    "# Test Case 2: Empty Input\n",
    "output = translate_text(\"\")\n",
    "print(output)"
   ]
  }
 ],
 "metadata": {
  "kernelspec": {
   "display_name": ".venv",
   "language": "python",
   "name": "python3"
  },
  "language_info": {
   "codemirror_mode": {
    "name": "ipython",
    "version": 3
   },
   "file_extension": ".py",
   "mimetype": "text/x-python",
   "name": "python",
   "nbconvert_exporter": "python",
   "pygments_lexer": "ipython3",
   "version": "3.12.4"
  }
 },
 "nbformat": 4,
 "nbformat_minor": 5
}
